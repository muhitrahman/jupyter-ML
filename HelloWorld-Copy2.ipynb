{
 "cells": [
  {
   "cell_type": "code",
   "execution_count": 9,
   "metadata": {},
   "outputs": [
    {
     "data": {
      "text/plain": [
       "array(['HipHop'], dtype=object)"
      ]
     },
     "execution_count": 9,
     "metadata": {},
     "output_type": "execute_result"
    }
   ],
   "source": [
    "\n",
    "# # persisting of model means reusing the training file for model everytime\n",
    "\n",
    "import pandas as pd \n",
    "from sklearn.tree import DecisionTreeClassifier\n",
    "from sklearn.externals import joblib\n",
    "# 1-importing data\n",
    "# importing \"DecisionTreeCalssifier\" class from \"Tree\" model of a package \"SKlearn\" from a library \"SciKitLearn\"\n",
    "\n",
    "\n",
    "# music_data = pd.read_csv(\"music.csv\")\n",
    "# X = music_data.drop(columns=[\"genre\"])\n",
    "# y = music_data[\"genre\"]\n",
    "# # 2+3-no data for cleaning. We split data into two\n",
    "\n",
    "\n",
    "# model = DecisionTreeClassifier()\n",
    "# model.fit(X, y)\n",
    "# # 4-creating a model for data\n",
    "# # 5-training the model to learn patter of data(with two set of data)\n",
    "\n",
    "# joblib.dump(model, \"music-recommender.joblib\")\n",
    "# # creating a binary file\n",
    "\n",
    "joblib.load(\"music-recommender.joblib\")\n",
    "predictions = model.predict( [ [21, 1] ] )\n",
    "predictions\n",
    "# we simply load train joblib file everytime to call it with our programs to train our model\n",
    "\n",
    "\n"
   ]
  },
  {
   "cell_type": "code",
   "execution_count": null,
   "metadata": {},
   "outputs": [],
   "source": []
  }
 ],
 "metadata": {
  "kernelspec": {
   "display_name": "Python 3",
   "language": "python",
   "name": "python3"
  },
  "language_info": {
   "codemirror_mode": {
    "name": "ipython",
    "version": 3
   },
   "file_extension": ".py",
   "mimetype": "text/x-python",
   "name": "python",
   "nbconvert_exporter": "python",
   "pygments_lexer": "ipython3",
   "version": "3.7.3"
  }
 },
 "nbformat": 4,
 "nbformat_minor": 2
}
