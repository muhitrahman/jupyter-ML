{
 "cells": [
  {
   "cell_type": "code",
   "execution_count": 2,
   "metadata": {},
   "outputs": [],
   "source": [
    "\n",
    "# # visualize model GUI in picture. I used code in terminal \"dot -Tpng \"dot filename.dot\" -o \"give pic name.png\"\n",
    "\n",
    "import pandas as pd \n",
    "from sklearn.tree import DecisionTreeClassifier\n",
    "from sklearn import tree\n",
    "# 1-importing data\n",
    "# importing \"DecisionTreeCalssifier\" class from \"Tree\" model of a package \"SKlearn\" from a library \"SciKitLearn\"\n",
    "\n",
    "\n",
    "music_data = pd.read_csv(\"music.csv\")\n",
    "X = music_data.drop(columns=[\"genre\"])\n",
    "y = music_data[\"genre\"]\n",
    "# 2+3-no data for cleaning. We split data into two\n",
    "\n",
    "\n",
    "model = DecisionTreeClassifier()\n",
    "model.fit(X,y)\n",
    "# 4-creating a model for data\n",
    "# 5-training the model to learn patter of data(with two set of data)\n",
    "\n",
    "tree.export_graphviz(model, \n",
    "                     out_file=\"music-recommender.dot\",\n",
    "                     feature_names=[\"age\", \"gender\"],\n",
    "                     class_names=sorted(y.unique()),\n",
    "                     label=\"all\",\n",
    "                     rounded=True,\n",
    "                     filled=True)\n",
    "\n",
    "# in decision tree gui we create .dot file\n",
    "# we create feature_name so we can see age and gender roles in our note\n",
    "# we crate class_name so we sorted by y output unique class\n",
    "# we label our model so we can visualize all label nicely\n",
    "# we rounded the gui corner\n",
    "# we filled gui with color\n",
    "\n",
    "\n"
   ]
  },
  {
   "cell_type": "code",
   "execution_count": null,
   "metadata": {},
   "outputs": [],
   "source": []
  }
 ],
 "metadata": {
  "kernelspec": {
   "display_name": "Python 3",
   "language": "python",
   "name": "python3"
  },
  "language_info": {
   "codemirror_mode": {
    "name": "ipython",
    "version": 3
   },
   "file_extension": ".py",
   "mimetype": "text/x-python",
   "name": "python",
   "nbconvert_exporter": "python",
   "pygments_lexer": "ipython3",
   "version": "3.7.3"
  }
 },
 "nbformat": 4,
 "nbformat_minor": 2
}
