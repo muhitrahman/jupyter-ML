{
 "cells": [
  {
   "cell_type": "code",
   "execution_count": 55,
   "metadata": {},
   "outputs": [
    {
     "data": {
      "text/plain": [
       "0.75"
      ]
     },
     "execution_count": 55,
     "metadata": {},
     "output_type": "execute_result"
    }
   ],
   "source": [
    "\n",
    "# # evaluate and improve the prediction. calculating and accuracy of model \n",
    "\n",
    "import pandas as pd \n",
    "from sklearn.tree import DecisionTreeClassifier\n",
    "from sklearn.model_selection import train_test_split\n",
    "from sklearn.metrics import accuracy_score\n",
    "# 1-importing data\n",
    "# importing \"DecisionTreeCalssifier\" class from \"Tree\" model of a package \"SKlearn\" from a library \"SciKitLearn\"\n",
    "# importing train_test_split class to train and test 80 and 20 pecent data\n",
    "# importing accuracy class\n",
    "\n",
    "music_data = pd.read_csv(\"music.csv\")\n",
    "X = music_data.drop(columns=[\"genre\"])\n",
    "y = music_data[\"genre\"]\n",
    "X_train, X_test, y_train, y_test = train_test_split(X, y, test_size=0.2)\n",
    "# 2+3-no data for cleaning. We split data into two\n",
    "# call the train_test function and give two argument and the size of train data. this return tuple and break into 4 variables\n",
    "\n",
    "\n",
    "model = DecisionTreeClassifier()\n",
    "# 4-creating a model for data\n",
    "\n",
    "\n",
    "# 7-evaluate and improve the prediction.....start.....\n",
    "model.fit(X_train, y_train)\n",
    "predictions = model.predict(X_test)\n",
    "score = accuracy_score(y_test, predictions)\n",
    "score\n",
    "# (5-training the model to learn pattern of data(with two set of data)) we dont want to train our entire data set. So we call only our train data set\n",
    "# (6-prediction our model)-we predict not only two data set but the whole input training \"X_test\" data set\n",
    "# ...to get the actual prediction we need to compare the model actual prediction with the predicted output test resul \"y_test\"\n",
    "# ........finish.............\n",
    "\n",
    "\n"
   ]
  },
  {
   "cell_type": "code",
   "execution_count": null,
   "metadata": {},
   "outputs": [],
   "source": []
  }
 ],
 "metadata": {
  "kernelspec": {
   "display_name": "Python 3",
   "language": "python",
   "name": "python3"
  },
  "language_info": {
   "codemirror_mode": {
    "name": "ipython",
    "version": 3
   },
   "file_extension": ".py",
   "mimetype": "text/x-python",
   "name": "python",
   "nbconvert_exporter": "python",
   "pygments_lexer": "ipython3",
   "version": "3.7.3"
  }
 },
 "nbformat": 4,
 "nbformat_minor": 2
}
